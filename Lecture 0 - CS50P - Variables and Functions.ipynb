{
 "cells": [
  {
   "cell_type": "markdown",
   "id": "2ef35108",
   "metadata": {},
   "source": [
    "# Esse é o Material da aula 0 do curso CS50P de 2022 "
   ]
  },
  {
   "cell_type": "markdown",
   "id": "2163f8fa",
   "metadata": {},
   "source": [
    "https://www.youtube.com/watch?v=JP7ITIXGpHk&t=1s"
   ]
  },
  {
   "cell_type": "markdown",
   "id": "46da8e60",
   "metadata": {},
   "source": [
    "Esse é o primeiro programa e python. Parabéns!! Introduz a função print"
   ]
  },
  {
   "cell_type": "code",
   "execution_count": 2,
   "id": "c490eae8",
   "metadata": {},
   "outputs": [
    {
     "name": "stdout",
     "output_type": "stream",
     "text": [
      "Hello, world\n"
     ]
    }
   ],
   "source": [
    "print(\"Hello, world\")"
   ]
  },
  {
   "cell_type": "markdown",
   "id": "1d90f281",
   "metadata": {},
   "source": [
    "Agora aprenderemos várias formas de dizer Hello"
   ]
  },
  {
   "cell_type": "code",
   "execution_count": 4,
   "id": "14b35436",
   "metadata": {},
   "outputs": [
    {
     "name": "stdout",
     "output_type": "stream",
     "text": [
      "What's your name? Marcel\n",
      "Hello, Marcel\n",
      "Hello, Marcel\n",
      "Hello, Marcel\n",
      "Hello, Marcel\n"
     ]
    }
   ],
   "source": [
    "# Segundo programa - Imprime Hello com o seu nome\n",
    "#Entrada de dados - input\n",
    "name = input(\"What's your name? \")\n",
    "#Impressão das variáveis\n",
    "#Primeira versão\n",
    "print(\"Hello, \" + name)\n",
    "\n",
    "#Segunda maneira de imprimir\n",
    "print(\"Hello,\", name)\n",
    "\n",
    "#Terceira maneira de imprimir\n",
    "print('Hello, ', end=\"\")\n",
    "print(name)\n",
    "\n",
    "#Quarta maneira de imprimir\n",
    "print(f\"Hello, {name}\")\n",
    "\n",
    "#Funções (print, input and comments)"
   ]
  },
  {
   "cell_type": "code",
   "execution_count": 6,
   "id": "8d682e5c",
   "metadata": {},
   "outputs": [
    {
     "name": "stdout",
     "output_type": "stream",
     "text": [
      "What's your name?  Marcel Cerri   \n",
      "Hello, Marcel\n"
     ]
    }
   ],
   "source": [
    "#Terceiro programa sobre Hello - O usuário pode colocar o nome completo\n",
    "name = input(\"What's your name? \")\n",
    "#Remove os espaços em branco na string\n",
    "name = name.strip()\n",
    "#Coloca em maiusculo o nome\n",
    "name = name.title()\n",
    "#Divide o nome do usuário\n",
    "first, last = name.split(\" \")\n",
    "#Imprimi Hello para o ususário\n",
    "print(f\"Hello, {first}\")\n",
    "# Introduz como mudar ou consultar características das variáveis - variável.algumacoisa"
   ]
  },
  {
   "cell_type": "code",
   "execution_count": 8,
   "id": "cb44b345",
   "metadata": {},
   "outputs": [
    {
     "name": "stdout",
     "output_type": "stream",
     "text": [
      "Hello, World\n",
      "What's your name? Marcel\n",
      "Hello, Marcel\n"
     ]
    }
   ],
   "source": [
    "# Vamos criar a própria função\n",
    "def hello(to=\"World\"):\n",
    "    print(\"Hello,\", to)\n",
    "# Imprime Hello World\n",
    "hello()\n",
    "# Imprime Hello com o nome\n",
    "name = input(\"What's your name? \")\n",
    "hello(name)"
   ]
  },
  {
   "cell_type": "code",
   "execution_count": 9,
   "id": "e2cfe698",
   "metadata": {},
   "outputs": [
    {
     "name": "stdout",
     "output_type": "stream",
     "text": [
      "What's your name? Marcel\n",
      "Hello, Marcel\n"
     ]
    }
   ],
   "source": [
    "# Para organizar as funções em ordem precisamos criar uma função main\n",
    "def main():\n",
    "    name = input(\"What's your name? \")\n",
    "    hello(name)\n",
    "    \n",
    "def hello(to=\"World\"):\n",
    "    print(\"Hello,\", to)\n",
    "\n",
    "main()\n"
   ]
  },
  {
   "cell_type": "markdown",
   "id": "293f665a",
   "metadata": {},
   "source": [
    "Agora aprenderemos algumas formas do Python realizar contas"
   ]
  },
  {
   "cell_type": "code",
   "execution_count": 10,
   "id": "d23cd061",
   "metadata": {},
   "outputs": [
    {
     "name": "stdout",
     "output_type": "stream",
     "text": [
      "3\n"
     ]
    }
   ],
   "source": [
    "# Calculadora simples\n",
    "x = 1 \n",
    "y=  2\n",
    "z = x + y\n",
    "print(z)\n"
   ]
  },
  {
   "cell_type": "code",
   "execution_count": 11,
   "id": "b73bfe96",
   "metadata": {},
   "outputs": [
    {
     "name": "stdout",
     "output_type": "stream",
     "text": [
      "What's x? 10\n",
      "What's y? 11\n",
      "21\n"
     ]
    }
   ],
   "source": [
    "# Calculadora de Soma de números inteiros\n",
    "#Entrada de dados\n",
    "x = int(input(\"What's x? \"))\n",
    "y = int(input(\"What's y? \"))\n",
    "#Impressão e calculo\n",
    "print(x + y)\n",
    "# função int - converte em número inteiro\n",
    "# Criando variáveis e realizando somas"
   ]
  },
  {
   "cell_type": "code",
   "execution_count": 13,
   "id": "d8b03c25",
   "metadata": {},
   "outputs": [
    {
     "name": "stdout",
     "output_type": "stream",
     "text": [
      "What's x? 12.5666666\n",
      "What's y? 12.66666\n",
      "25.23\n"
     ]
    }
   ],
   "source": [
    "# Calculadora de Soma de números reais\n",
    "#Entrada de dados\n",
    "x = float(input(\"What's x? \"))\n",
    "y = float(input(\"What's y? \"))\n",
    "#Impressão e calculo, arredondando com 2 casas decimais\n",
    "print(round((x + y), 2))\n",
    "# função float e round"
   ]
  },
  {
   "cell_type": "code",
   "execution_count": 14,
   "id": "51b0874b",
   "metadata": {},
   "outputs": [
    {
     "name": "stdout",
     "output_type": "stream",
     "text": [
      "What's x? 12\n",
      "What's y? 5\n",
      "2.4\n",
      "2.40\n"
     ]
    }
   ],
   "source": [
    "# Divisão de dois números inteiros\n",
    "#Entrada de dados\n",
    "x = float(input(\"What's x? \"))\n",
    "y = float(input(\"What's y? \"))\n",
    "z = x / y\n",
    "# Maneiras diferentes de imprimir o resultado do cálculo\n",
    "print(round(z,2))\n",
    "print(f'{z:.2f}')"
   ]
  },
  {
   "cell_type": "code",
   "execution_count": 15,
   "id": "64a9658d",
   "metadata": {},
   "outputs": [
    {
     "name": "stdout",
     "output_type": "stream",
     "text": [
      "What's x? 12\n",
      "x squared is 144\n"
     ]
    }
   ],
   "source": [
    "# Criando uma função para calcular o quadrado do número\n",
    "def main():\n",
    "    x = int(input(\"What's x? \"))\n",
    "    print(\"x squared is\", square(x))\n",
    "\n",
    "def square(n):\n",
    "    return n**2\n",
    "\n",
    "main()"
   ]
  },
  {
   "cell_type": "code",
   "execution_count": null,
   "id": "96a9c7af",
   "metadata": {},
   "outputs": [],
   "source": []
  }
 ],
 "metadata": {
  "kernelspec": {
   "display_name": "Python 3 (ipykernel)",
   "language": "python",
   "name": "python3"
  },
  "language_info": {
   "codemirror_mode": {
    "name": "ipython",
    "version": 3
   },
   "file_extension": ".py",
   "mimetype": "text/x-python",
   "name": "python",
   "nbconvert_exporter": "python",
   "pygments_lexer": "ipython3",
   "version": "3.9.7"
  }
 },
 "nbformat": 4,
 "nbformat_minor": 5
}
